{
  "nbformat": 4,
  "nbformat_minor": 0,
  "metadata": {
    "colab": {
      "provenance": [],
      "authorship_tag": "ABX9TyOE0pV5N+DOUK1Y+9TnKqcs",
      "include_colab_link": true
    },
    "kernelspec": {
      "name": "python3",
      "display_name": "Python 3"
    },
    "language_info": {
      "name": "python"
    }
  },
  "cells": [
    {
      "cell_type": "markdown",
      "metadata": {
        "id": "view-in-github",
        "colab_type": "text"
      },
      "source": [
        "<a href=\"https://colab.research.google.com/github/humi926/COMP4462_PROJRCT_2022_G07/blob/main/COMP4462_DriverFactor.ipynb\" target=\"_parent\"><img src=\"https://colab.research.google.com/assets/colab-badge.svg\" alt=\"Open In Colab\"/></a>"
      ]
    },
    {
      "cell_type": "code",
      "source": [
        "!pip install chart_studio\n",
        "!pip install plotly-express\n",
        "\n",
        "import pandas as pd\n",
        "import chart_studio\n",
        "import chart_studio.plotly as py\n",
        "\n",
        "import plotly.express as px\n",
        "import plotly.express as px\n",
        "from matplotlib.pyplot import cm\n",
        "import numpy as np"
      ],
      "metadata": {
        "colab": {
          "base_uri": "https://localhost:8080/"
        },
        "id": "fqLlb9kxVpmF",
        "outputId": "2787aafc-59ec-41ef-f1a2-c1b368d9fe57"
      },
      "execution_count": 135,
      "outputs": [
        {
          "output_type": "stream",
          "name": "stdout",
          "text": [
            "Looking in indexes: https://pypi.org/simple, https://us-python.pkg.dev/colab-wheels/public/simple/\n",
            "Requirement already satisfied: chart_studio in /usr/local/lib/python3.8/dist-packages (1.1.0)\n",
            "Requirement already satisfied: six in /usr/local/lib/python3.8/dist-packages (from chart_studio) (1.15.0)\n",
            "Requirement already satisfied: plotly in /usr/local/lib/python3.8/dist-packages (from chart_studio) (5.5.0)\n",
            "Requirement already satisfied: requests in /usr/local/lib/python3.8/dist-packages (from chart_studio) (2.23.0)\n",
            "Requirement already satisfied: retrying>=1.3.3 in /usr/local/lib/python3.8/dist-packages (from chart_studio) (1.3.4)\n",
            "Requirement already satisfied: tenacity>=6.2.0 in /usr/local/lib/python3.8/dist-packages (from plotly->chart_studio) (8.1.0)\n",
            "Requirement already satisfied: urllib3!=1.25.0,!=1.25.1,<1.26,>=1.21.1 in /usr/local/lib/python3.8/dist-packages (from requests->chart_studio) (1.24.3)\n",
            "Requirement already satisfied: chardet<4,>=3.0.2 in /usr/local/lib/python3.8/dist-packages (from requests->chart_studio) (3.0.4)\n",
            "Requirement already satisfied: certifi>=2017.4.17 in /usr/local/lib/python3.8/dist-packages (from requests->chart_studio) (2022.9.24)\n",
            "Requirement already satisfied: idna<3,>=2.5 in /usr/local/lib/python3.8/dist-packages (from requests->chart_studio) (2.10)\n",
            "Looking in indexes: https://pypi.org/simple, https://us-python.pkg.dev/colab-wheels/public/simple/\n",
            "Requirement already satisfied: plotly-express in /usr/local/lib/python3.8/dist-packages (0.4.1)\n",
            "Requirement already satisfied: statsmodels>=0.9.0 in /usr/local/lib/python3.8/dist-packages (from plotly-express) (0.12.2)\n",
            "Requirement already satisfied: scipy>=0.18 in /usr/local/lib/python3.8/dist-packages (from plotly-express) (1.7.3)\n",
            "Requirement already satisfied: pandas>=0.20.0 in /usr/local/lib/python3.8/dist-packages (from plotly-express) (1.3.5)\n",
            "Requirement already satisfied: patsy>=0.5 in /usr/local/lib/python3.8/dist-packages (from plotly-express) (0.5.3)\n",
            "Requirement already satisfied: plotly>=4.1.0 in /usr/local/lib/python3.8/dist-packages (from plotly-express) (5.5.0)\n",
            "Requirement already satisfied: numpy>=1.11 in /usr/local/lib/python3.8/dist-packages (from plotly-express) (1.21.6)\n",
            "Requirement already satisfied: python-dateutil>=2.7.3 in /usr/local/lib/python3.8/dist-packages (from pandas>=0.20.0->plotly-express) (2.8.2)\n",
            "Requirement already satisfied: pytz>=2017.3 in /usr/local/lib/python3.8/dist-packages (from pandas>=0.20.0->plotly-express) (2022.6)\n",
            "Requirement already satisfied: six in /usr/local/lib/python3.8/dist-packages (from patsy>=0.5->plotly-express) (1.15.0)\n",
            "Requirement already satisfied: tenacity>=6.2.0 in /usr/local/lib/python3.8/dist-packages (from plotly>=4.1.0->plotly-express) (8.1.0)\n"
          ]
        }
      ]
    },
    {
      "cell_type": "code",
      "source": [
        "# import data\n",
        "# https://towardsdatascience.com/3-ways-to-load-csv-files-into-colab-7c14fcbdcb92\n",
        "url = 'https://raw.githubusercontent.com/humi926/COMP4462_PROJRCT_2022_G07/main/f3.8_eng.csv'\n",
        "df = pd.read_csv(url)"
      ],
      "metadata": {
        "id": "tJ4uEouxQD35"
      },
      "execution_count": 109,
      "outputs": []
    },
    {
      "cell_type": "code",
      "source": [
        "# delete col 'Severity: All'\n",
        "# delete row 'Driver contributory factor' == 'All'\n",
        "# delete row 'Driver contributory factor' == 'No Driver Factor'\n",
        "del df['Severity: All']\n",
        "df = df[df['Driver contributory factor'] != 'All']\n",
        "df = df[df['Driver contributory factor'] != 'No driver factor']"
      ],
      "metadata": {
        "id": "6Nv_Os-CRQYh"
      },
      "execution_count": 110,
      "outputs": []
    },
    {
      "cell_type": "code",
      "source": [
        "# unpivot severity\n",
        "# https://mathdatasimplified.com/2021/12/02/pandas-melt-unpivot-a-dataframe/\n",
        "df = df.melt(id_vars=['Driver contributory factor'],\n",
        "        value_vars=['Severity: Fatal', 'Severity: Serious', 'Severity: Slight'],\n",
        "        var_name='Severity')"
      ],
      "metadata": {
        "id": "SwJKH7spQYLd"
      },
      "execution_count": 111,
      "outputs": []
    },
    {
      "cell_type": "code",
      "source": [
        "df['percentage'] = 100*df['value']/sum(df['value'])\n",
        "df"
      ],
      "metadata": {
        "colab": {
          "base_uri": "https://localhost:8080/",
          "height": 424
        },
        "id": "HNF9gwKPnRoO",
        "outputId": "00c6bdde-bc79-456c-df7a-973d2fd9349e"
      },
      "execution_count": 116,
      "outputs": [
        {
          "output_type": "execute_result",
          "data": {
            "text/plain": [
              "                            Driver contributory factor          Severity  \\\n",
              "0                                Exceeding speed limit   Severity: Fatal   \n",
              "1                  Driving too fast for road condition   Severity: Fatal   \n",
              "2                            Driving too close to kerb   Severity: Fatal   \n",
              "3                Driving too close to vehicle in front   Severity: Fatal   \n",
              "4               Driving too close to vehicle alongside   Severity: Fatal   \n",
              "..                                                 ...               ...   \n",
              "109  To avoid collision or otherwise : swerving/sto...  Severity: Slight   \n",
              "110                          Furious/dangerous driving  Severity: Slight   \n",
              "111                        Driving a dangerous vehicle  Severity: Slight   \n",
              "112          Failing to ensure the safety of passenger  Severity: Slight   \n",
              "113                               Other driver factors  Severity: Slight   \n",
              "\n",
              "     value  percentage  \n",
              "0        2    0.012308  \n",
              "1        1    0.006154  \n",
              "2        0    0.000000  \n",
              "3        3    0.018462  \n",
              "4        0    0.000000  \n",
              "..     ...         ...  \n",
              "109    305    1.876923  \n",
              "110     23    0.141538  \n",
              "111     14    0.086154  \n",
              "112    266    1.636923  \n",
              "113    406    2.498462  \n",
              "\n",
              "[114 rows x 4 columns]"
            ],
            "text/html": [
              "\n",
              "  <div id=\"df-3bef0912-baeb-4a17-902a-2696f338271f\">\n",
              "    <div class=\"colab-df-container\">\n",
              "      <div>\n",
              "<style scoped>\n",
              "    .dataframe tbody tr th:only-of-type {\n",
              "        vertical-align: middle;\n",
              "    }\n",
              "\n",
              "    .dataframe tbody tr th {\n",
              "        vertical-align: top;\n",
              "    }\n",
              "\n",
              "    .dataframe thead th {\n",
              "        text-align: right;\n",
              "    }\n",
              "</style>\n",
              "<table border=\"1\" class=\"dataframe\">\n",
              "  <thead>\n",
              "    <tr style=\"text-align: right;\">\n",
              "      <th></th>\n",
              "      <th>Driver contributory factor</th>\n",
              "      <th>Severity</th>\n",
              "      <th>value</th>\n",
              "      <th>percentage</th>\n",
              "    </tr>\n",
              "  </thead>\n",
              "  <tbody>\n",
              "    <tr>\n",
              "      <th>0</th>\n",
              "      <td>Exceeding speed limit</td>\n",
              "      <td>Severity: Fatal</td>\n",
              "      <td>2</td>\n",
              "      <td>0.012308</td>\n",
              "    </tr>\n",
              "    <tr>\n",
              "      <th>1</th>\n",
              "      <td>Driving too fast for road condition</td>\n",
              "      <td>Severity: Fatal</td>\n",
              "      <td>1</td>\n",
              "      <td>0.006154</td>\n",
              "    </tr>\n",
              "    <tr>\n",
              "      <th>2</th>\n",
              "      <td>Driving too close to kerb</td>\n",
              "      <td>Severity: Fatal</td>\n",
              "      <td>0</td>\n",
              "      <td>0.000000</td>\n",
              "    </tr>\n",
              "    <tr>\n",
              "      <th>3</th>\n",
              "      <td>Driving too close to vehicle in front</td>\n",
              "      <td>Severity: Fatal</td>\n",
              "      <td>3</td>\n",
              "      <td>0.018462</td>\n",
              "    </tr>\n",
              "    <tr>\n",
              "      <th>4</th>\n",
              "      <td>Driving too close to vehicle alongside</td>\n",
              "      <td>Severity: Fatal</td>\n",
              "      <td>0</td>\n",
              "      <td>0.000000</td>\n",
              "    </tr>\n",
              "    <tr>\n",
              "      <th>...</th>\n",
              "      <td>...</td>\n",
              "      <td>...</td>\n",
              "      <td>...</td>\n",
              "      <td>...</td>\n",
              "    </tr>\n",
              "    <tr>\n",
              "      <th>109</th>\n",
              "      <td>To avoid collision or otherwise : swerving/sto...</td>\n",
              "      <td>Severity: Slight</td>\n",
              "      <td>305</td>\n",
              "      <td>1.876923</td>\n",
              "    </tr>\n",
              "    <tr>\n",
              "      <th>110</th>\n",
              "      <td>Furious/dangerous driving</td>\n",
              "      <td>Severity: Slight</td>\n",
              "      <td>23</td>\n",
              "      <td>0.141538</td>\n",
              "    </tr>\n",
              "    <tr>\n",
              "      <th>111</th>\n",
              "      <td>Driving a dangerous vehicle</td>\n",
              "      <td>Severity: Slight</td>\n",
              "      <td>14</td>\n",
              "      <td>0.086154</td>\n",
              "    </tr>\n",
              "    <tr>\n",
              "      <th>112</th>\n",
              "      <td>Failing to ensure the safety of passenger</td>\n",
              "      <td>Severity: Slight</td>\n",
              "      <td>266</td>\n",
              "      <td>1.636923</td>\n",
              "    </tr>\n",
              "    <tr>\n",
              "      <th>113</th>\n",
              "      <td>Other driver factors</td>\n",
              "      <td>Severity: Slight</td>\n",
              "      <td>406</td>\n",
              "      <td>2.498462</td>\n",
              "    </tr>\n",
              "  </tbody>\n",
              "</table>\n",
              "<p>114 rows × 4 columns</p>\n",
              "</div>\n",
              "      <button class=\"colab-df-convert\" onclick=\"convertToInteractive('df-3bef0912-baeb-4a17-902a-2696f338271f')\"\n",
              "              title=\"Convert this dataframe to an interactive table.\"\n",
              "              style=\"display:none;\">\n",
              "        \n",
              "  <svg xmlns=\"http://www.w3.org/2000/svg\" height=\"24px\"viewBox=\"0 0 24 24\"\n",
              "       width=\"24px\">\n",
              "    <path d=\"M0 0h24v24H0V0z\" fill=\"none\"/>\n",
              "    <path d=\"M18.56 5.44l.94 2.06.94-2.06 2.06-.94-2.06-.94-.94-2.06-.94 2.06-2.06.94zm-11 1L8.5 8.5l.94-2.06 2.06-.94-2.06-.94L8.5 2.5l-.94 2.06-2.06.94zm10 10l.94 2.06.94-2.06 2.06-.94-2.06-.94-.94-2.06-.94 2.06-2.06.94z\"/><path d=\"M17.41 7.96l-1.37-1.37c-.4-.4-.92-.59-1.43-.59-.52 0-1.04.2-1.43.59L10.3 9.45l-7.72 7.72c-.78.78-.78 2.05 0 2.83L4 21.41c.39.39.9.59 1.41.59.51 0 1.02-.2 1.41-.59l7.78-7.78 2.81-2.81c.8-.78.8-2.07 0-2.86zM5.41 20L4 18.59l7.72-7.72 1.47 1.35L5.41 20z\"/>\n",
              "  </svg>\n",
              "      </button>\n",
              "      \n",
              "  <style>\n",
              "    .colab-df-container {\n",
              "      display:flex;\n",
              "      flex-wrap:wrap;\n",
              "      gap: 12px;\n",
              "    }\n",
              "\n",
              "    .colab-df-convert {\n",
              "      background-color: #E8F0FE;\n",
              "      border: none;\n",
              "      border-radius: 50%;\n",
              "      cursor: pointer;\n",
              "      display: none;\n",
              "      fill: #1967D2;\n",
              "      height: 32px;\n",
              "      padding: 0 0 0 0;\n",
              "      width: 32px;\n",
              "    }\n",
              "\n",
              "    .colab-df-convert:hover {\n",
              "      background-color: #E2EBFA;\n",
              "      box-shadow: 0px 1px 2px rgba(60, 64, 67, 0.3), 0px 1px 3px 1px rgba(60, 64, 67, 0.15);\n",
              "      fill: #174EA6;\n",
              "    }\n",
              "\n",
              "    [theme=dark] .colab-df-convert {\n",
              "      background-color: #3B4455;\n",
              "      fill: #D2E3FC;\n",
              "    }\n",
              "\n",
              "    [theme=dark] .colab-df-convert:hover {\n",
              "      background-color: #434B5C;\n",
              "      box-shadow: 0px 1px 3px 1px rgba(0, 0, 0, 0.15);\n",
              "      filter: drop-shadow(0px 1px 2px rgba(0, 0, 0, 0.3));\n",
              "      fill: #FFFFFF;\n",
              "    }\n",
              "  </style>\n",
              "\n",
              "      <script>\n",
              "        const buttonEl =\n",
              "          document.querySelector('#df-3bef0912-baeb-4a17-902a-2696f338271f button.colab-df-convert');\n",
              "        buttonEl.style.display =\n",
              "          google.colab.kernel.accessAllowed ? 'block' : 'none';\n",
              "\n",
              "        async function convertToInteractive(key) {\n",
              "          const element = document.querySelector('#df-3bef0912-baeb-4a17-902a-2696f338271f');\n",
              "          const dataTable =\n",
              "            await google.colab.kernel.invokeFunction('convertToInteractive',\n",
              "                                                     [key], {});\n",
              "          if (!dataTable) return;\n",
              "\n",
              "          const docLinkHtml = 'Like what you see? Visit the ' +\n",
              "            '<a target=\"_blank\" href=https://colab.research.google.com/notebooks/data_table.ipynb>data table notebook</a>'\n",
              "            + ' to learn more about interactive tables.';\n",
              "          element.innerHTML = '';\n",
              "          dataTable['output_type'] = 'display_data';\n",
              "          await google.colab.output.renderOutput(dataTable, element);\n",
              "          const docLink = document.createElement('div');\n",
              "          docLink.innerHTML = docLinkHtml;\n",
              "          element.appendChild(docLink);\n",
              "        }\n",
              "      </script>\n",
              "    </div>\n",
              "  </div>\n",
              "  "
            ]
          },
          "metadata": {},
          "execution_count": 116
        }
      ]
    },
    {
      "cell_type": "code",
      "source": [
        "# create treemap\n",
        "# https://www.analyticsvidhya.com/blog/2021/10/how-to-build-a-treemap-in-3-ways-using-python/\n",
        "fig = px.treemap(df, path=['Driver contributory factor', 'Severity'],\n",
        "                 values='value', \n",
        "                 width=1000, height=600)\n",
        "\n",
        "\n",
        "fig.data[0].textinfo = \"label+value+percent parent+percent root\"\n",
        "\n",
        "#percents = (100*df['value']/sum(df['value'])).tolist()\n",
        "#fig.data[0].customdata = np.column_stack([percents])\n",
        "\n",
        "#fig.data[0].texttemplate = \"%{parent}<br>%{label}<br>%{value}<br>%{customdata[0]:.2f}%\"\n",
        "\n",
        "fig.show()"
      ],
      "metadata": {
        "colab": {
          "base_uri": "https://localhost:8080/",
          "height": 617
        },
        "id": "uYZjDaKoYtge",
        "outputId": "50caef4c-fc88-47d0-8c8c-8b98b3408fba"
      },
      "execution_count": 134,
      "outputs": [
        {
          "output_type": "display_data",
          "data": {
            "text/html": [
              "<html>\n",
              "<head><meta charset=\"utf-8\" /></head>\n",
              "<body>\n",
              "    <div>            <script src=\"https://cdnjs.cloudflare.com/ajax/libs/mathjax/2.7.5/MathJax.js?config=TeX-AMS-MML_SVG\"></script><script type=\"text/javascript\">if (window.MathJax) {MathJax.Hub.Config({SVG: {font: \"STIX-Web\"}});}</script>                <script type=\"text/javascript\">window.PlotlyConfig = {MathJaxConfig: 'local'};</script>\n",
              "        <script src=\"https://cdn.plot.ly/plotly-2.8.3.min.js\"></script>                <div id=\"5fc70a26-74c7-4efa-a91b-22b5d932540e\" class=\"plotly-graph-div\" style=\"height:600px; width:1000px;\"></div>            <script type=\"text/javascript\">                                    window.PLOTLYENV=window.PLOTLYENV || {};                                    if (document.getElementById(\"5fc70a26-74c7-4efa-a91b-22b5d932540e\")) {                    Plotly.newPlot(                        \"5fc70a26-74c7-4efa-a91b-22b5d932540e\",                        [{\"branchvalues\":\"total\",\"domain\":{\"x\":[0.0,1.0],\"y\":[0.0,1.0]},\"hovertemplate\":\"labels=%{label}<br>value=%{value}<br>parent=%{parent}<br>id=%{id}<extra></extra>\",\"ids\":[\"Careless cycling/Severity: Fatal\",\"Careless lane changing/Severity: Fatal\",\"Dazzled by other lights/Severity: Fatal\",\"Disobey directions of a police officer/Severity: Fatal\",\"Disobey double white lines/Severity: Fatal\",\"Disobey give way sign (slow)/Severity: Fatal\",\"Disobey stop sign (halt)/Severity: Fatal\",\"Disobey traffic signal/light/Severity: Fatal\",\"Drink driving/Severity: Fatal\",\"Driving a dangerous vehicle/Severity: Fatal\",\"Driving inattentively/Severity: Fatal\",\"Driving on wrong side of road/Severity: Fatal\",\"Driving too close to kerb/Severity: Fatal\",\"Driving too close to vehicle alongside/Severity: Fatal\",\"Driving too close to vehicle in front/Severity: Fatal\",\"Driving too fast for road condition/Severity: Fatal\",\"Emerging from side road negligently/Severity: Fatal\",\"Exceeding speed limit/Severity: Fatal\",\"Failing to ensure the safety of passenger/Severity: Fatal\",\"Failing to stop at a zebra crossing/Severity: Fatal\",\"Failure to signal movement correctly/Severity: Fatal\",\"Furious/dangerous driving/Severity: Fatal\",\"Improper or illegal turn/Severity: Fatal\",\"Lost control of vehicle/Severity: Fatal\",\"Opened door negligently (driver)/Severity: Fatal\",\"Other driver factors/Severity: Fatal\",\"Overtaking in a zebra controlled area/Severity: Fatal\",\"Overtaking on offside/nearside negligently/Severity: Fatal\",\"Reversing negligently/Severity: Fatal\",\"Rolling backwards/forwards-failed to set handbrake/Severity: Fatal\",\"Sleep or fatigue/Severity: Fatal\",\"Starting negligently/Severity: Fatal\",\"Stopping negligently/Severity: Fatal\",\"Sudden illness, or mental defect/Severity: Fatal\",\"To avoid collision or otherwise : swerving/stopping suddenly/Severity: Fatal\",\"Turning right/left negligently/Severity: Fatal\",\"U turning negligently/Severity: Fatal\",\"Vision affected by atmospheric conditions/sunlight/Severity: Fatal\",\"Careless cycling/Severity: Serious\",\"Careless lane changing/Severity: Serious\",\"Dazzled by other lights/Severity: Serious\",\"Disobey directions of a police officer/Severity: Serious\",\"Disobey double white lines/Severity: Serious\",\"Disobey give way sign (slow)/Severity: Serious\",\"Disobey stop sign (halt)/Severity: Serious\",\"Disobey traffic signal/light/Severity: Serious\",\"Drink driving/Severity: Serious\",\"Driving a dangerous vehicle/Severity: Serious\",\"Driving inattentively/Severity: Serious\",\"Driving on wrong side of road/Severity: Serious\",\"Driving too close to kerb/Severity: Serious\",\"Driving too close to vehicle alongside/Severity: Serious\",\"Driving too close to vehicle in front/Severity: Serious\",\"Driving too fast for road condition/Severity: Serious\",\"Emerging from side road negligently/Severity: Serious\",\"Exceeding speed limit/Severity: Serious\",\"Failing to ensure the safety of passenger/Severity: Serious\",\"Failing to stop at a zebra crossing/Severity: Serious\",\"Failure to signal movement correctly/Severity: Serious\",\"Furious/dangerous driving/Severity: Serious\",\"Improper or illegal turn/Severity: Serious\",\"Lost control of vehicle/Severity: Serious\",\"Opened door negligently (driver)/Severity: Serious\",\"Other driver factors/Severity: Serious\",\"Overtaking in a zebra controlled area/Severity: Serious\",\"Overtaking on offside/nearside negligently/Severity: Serious\",\"Reversing negligently/Severity: Serious\",\"Rolling backwards/forwards-failed to set handbrake/Severity: Serious\",\"Sleep or fatigue/Severity: Serious\",\"Starting negligently/Severity: Serious\",\"Stopping negligently/Severity: Serious\",\"Sudden illness, or mental defect/Severity: Serious\",\"To avoid collision or otherwise : swerving/stopping suddenly/Severity: Serious\",\"Turning right/left negligently/Severity: Serious\",\"U turning negligently/Severity: Serious\",\"Vision affected by atmospheric conditions/sunlight/Severity: Serious\",\"Careless cycling/Severity: Slight\",\"Careless lane changing/Severity: Slight\",\"Dazzled by other lights/Severity: Slight\",\"Disobey directions of a police officer/Severity: Slight\",\"Disobey double white lines/Severity: Slight\",\"Disobey give way sign (slow)/Severity: Slight\",\"Disobey stop sign (halt)/Severity: Slight\",\"Disobey traffic signal/light/Severity: Slight\",\"Drink driving/Severity: Slight\",\"Driving a dangerous vehicle/Severity: Slight\",\"Driving inattentively/Severity: Slight\",\"Driving on wrong side of road/Severity: Slight\",\"Driving too close to kerb/Severity: Slight\",\"Driving too close to vehicle alongside/Severity: Slight\",\"Driving too close to vehicle in front/Severity: Slight\",\"Driving too fast for road condition/Severity: Slight\",\"Emerging from side road negligently/Severity: Slight\",\"Exceeding speed limit/Severity: Slight\",\"Failing to ensure the safety of passenger/Severity: Slight\",\"Failing to stop at a zebra crossing/Severity: Slight\",\"Failure to signal movement correctly/Severity: Slight\",\"Furious/dangerous driving/Severity: Slight\",\"Improper or illegal turn/Severity: Slight\",\"Lost control of vehicle/Severity: Slight\",\"Opened door negligently (driver)/Severity: Slight\",\"Other driver factors/Severity: Slight\",\"Overtaking in a zebra controlled area/Severity: Slight\",\"Overtaking on offside/nearside negligently/Severity: Slight\",\"Reversing negligently/Severity: Slight\",\"Rolling backwards/forwards-failed to set handbrake/Severity: Slight\",\"Sleep or fatigue/Severity: Slight\",\"Starting negligently/Severity: Slight\",\"Stopping negligently/Severity: Slight\",\"Sudden illness, or mental defect/Severity: Slight\",\"To avoid collision or otherwise : swerving/stopping suddenly/Severity: Slight\",\"Turning right/left negligently/Severity: Slight\",\"U turning negligently/Severity: Slight\",\"Vision affected by atmospheric conditions/sunlight/Severity: Slight\",\"Careless cycling\",\"Careless lane changing\",\"Dazzled by other lights\",\"Disobey directions of a police officer\",\"Disobey double white lines\",\"Disobey give way sign (slow)\",\"Disobey stop sign (halt)\",\"Disobey traffic signal/light\",\"Drink driving\",\"Driving a dangerous vehicle\",\"Driving inattentively\",\"Driving on wrong side of road\",\"Driving too close to kerb\",\"Driving too close to vehicle alongside\",\"Driving too close to vehicle in front\",\"Driving too fast for road condition\",\"Emerging from side road negligently\",\"Exceeding speed limit\",\"Failing to ensure the safety of passenger\",\"Failing to stop at a zebra crossing\",\"Failure to signal movement correctly\",\"Furious/dangerous driving\",\"Improper or illegal turn\",\"Lost control of vehicle\",\"Opened door negligently (driver)\",\"Other driver factors\",\"Overtaking in a zebra controlled area\",\"Overtaking on offside/nearside negligently\",\"Reversing negligently\",\"Rolling backwards/forwards-failed to set handbrake\",\"Sleep or fatigue\",\"Starting negligently\",\"Stopping negligently\",\"Sudden illness, or mental defect\",\"To avoid collision or otherwise : swerving/stopping suddenly\",\"Turning right/left negligently\",\"U turning negligently\",\"Vision affected by atmospheric conditions/sunlight\"],\"labels\":[\"Severity: Fatal\",\"Severity: Fatal\",\"Severity: Fatal\",\"Severity: Fatal\",\"Severity: Fatal\",\"Severity: Fatal\",\"Severity: Fatal\",\"Severity: Fatal\",\"Severity: Fatal\",\"Severity: Fatal\",\"Severity: Fatal\",\"Severity: Fatal\",\"Severity: Fatal\",\"Severity: Fatal\",\"Severity: Fatal\",\"Severity: Fatal\",\"Severity: Fatal\",\"Severity: Fatal\",\"Severity: Fatal\",\"Severity: Fatal\",\"Severity: Fatal\",\"Severity: Fatal\",\"Severity: Fatal\",\"Severity: Fatal\",\"Severity: Fatal\",\"Severity: Fatal\",\"Severity: Fatal\",\"Severity: Fatal\",\"Severity: Fatal\",\"Severity: Fatal\",\"Severity: Fatal\",\"Severity: Fatal\",\"Severity: Fatal\",\"Severity: Fatal\",\"Severity: Fatal\",\"Severity: Fatal\",\"Severity: Fatal\",\"Severity: Fatal\",\"Severity: Serious\",\"Severity: Serious\",\"Severity: Serious\",\"Severity: Serious\",\"Severity: Serious\",\"Severity: Serious\",\"Severity: Serious\",\"Severity: Serious\",\"Severity: Serious\",\"Severity: Serious\",\"Severity: Serious\",\"Severity: Serious\",\"Severity: Serious\",\"Severity: Serious\",\"Severity: Serious\",\"Severity: Serious\",\"Severity: Serious\",\"Severity: Serious\",\"Severity: Serious\",\"Severity: Serious\",\"Severity: Serious\",\"Severity: Serious\",\"Severity: Serious\",\"Severity: Serious\",\"Severity: Serious\",\"Severity: Serious\",\"Severity: Serious\",\"Severity: Serious\",\"Severity: Serious\",\"Severity: Serious\",\"Severity: Serious\",\"Severity: Serious\",\"Severity: Serious\",\"Severity: Serious\",\"Severity: Serious\",\"Severity: Serious\",\"Severity: Serious\",\"Severity: Serious\",\"Severity: Slight\",\"Severity: Slight\",\"Severity: Slight\",\"Severity: Slight\",\"Severity: Slight\",\"Severity: Slight\",\"Severity: Slight\",\"Severity: Slight\",\"Severity: Slight\",\"Severity: Slight\",\"Severity: Slight\",\"Severity: Slight\",\"Severity: Slight\",\"Severity: Slight\",\"Severity: Slight\",\"Severity: Slight\",\"Severity: Slight\",\"Severity: Slight\",\"Severity: Slight\",\"Severity: Slight\",\"Severity: Slight\",\"Severity: Slight\",\"Severity: Slight\",\"Severity: Slight\",\"Severity: Slight\",\"Severity: Slight\",\"Severity: Slight\",\"Severity: Slight\",\"Severity: Slight\",\"Severity: Slight\",\"Severity: Slight\",\"Severity: Slight\",\"Severity: Slight\",\"Severity: Slight\",\"Severity: Slight\",\"Severity: Slight\",\"Severity: Slight\",\"Severity: Slight\",\"Careless cycling\",\"Careless lane changing\",\"Dazzled by other lights\",\"Disobey directions of a police officer\",\"Disobey double white lines\",\"Disobey give way sign (slow)\",\"Disobey stop sign (halt)\",\"Disobey traffic signal/light\",\"Drink driving\",\"Driving a dangerous vehicle\",\"Driving inattentively\",\"Driving on wrong side of road\",\"Driving too close to kerb\",\"Driving too close to vehicle alongside\",\"Driving too close to vehicle in front\",\"Driving too fast for road condition\",\"Emerging from side road negligently\",\"Exceeding speed limit\",\"Failing to ensure the safety of passenger\",\"Failing to stop at a zebra crossing\",\"Failure to signal movement correctly\",\"Furious/dangerous driving\",\"Improper or illegal turn\",\"Lost control of vehicle\",\"Opened door negligently (driver)\",\"Other driver factors\",\"Overtaking in a zebra controlled area\",\"Overtaking on offside/nearside negligently\",\"Reversing negligently\",\"Rolling backwards/forwards-failed to set handbrake\",\"Sleep or fatigue\",\"Starting negligently\",\"Stopping negligently\",\"Sudden illness, or mental defect\",\"To avoid collision or otherwise : swerving/stopping suddenly\",\"Turning right/left negligently\",\"U turning negligently\",\"Vision affected by atmospheric conditions/sunlight\"],\"name\":\"\",\"parents\":[\"Careless cycling\",\"Careless lane changing\",\"Dazzled by other lights\",\"Disobey directions of a police officer\",\"Disobey double white lines\",\"Disobey give way sign (slow)\",\"Disobey stop sign (halt)\",\"Disobey traffic signal/light\",\"Drink driving\",\"Driving a dangerous vehicle\",\"Driving inattentively\",\"Driving on wrong side of road\",\"Driving too close to kerb\",\"Driving too close to vehicle alongside\",\"Driving too close to vehicle in front\",\"Driving too fast for road condition\",\"Emerging from side road negligently\",\"Exceeding speed limit\",\"Failing to ensure the safety of passenger\",\"Failing to stop at a zebra crossing\",\"Failure to signal movement correctly\",\"Furious/dangerous driving\",\"Improper or illegal turn\",\"Lost control of vehicle\",\"Opened door negligently (driver)\",\"Other driver factors\",\"Overtaking in a zebra controlled area\",\"Overtaking on offside/nearside negligently\",\"Reversing negligently\",\"Rolling backwards/forwards-failed to set handbrake\",\"Sleep or fatigue\",\"Starting negligently\",\"Stopping negligently\",\"Sudden illness, or mental defect\",\"To avoid collision or otherwise : swerving/stopping suddenly\",\"Turning right/left negligently\",\"U turning negligently\",\"Vision affected by atmospheric conditions/sunlight\",\"Careless cycling\",\"Careless lane changing\",\"Dazzled by other lights\",\"Disobey directions of a police officer\",\"Disobey double white lines\",\"Disobey give way sign (slow)\",\"Disobey stop sign (halt)\",\"Disobey traffic signal/light\",\"Drink driving\",\"Driving a dangerous vehicle\",\"Driving inattentively\",\"Driving on wrong side of road\",\"Driving too close to kerb\",\"Driving too close to vehicle alongside\",\"Driving too close to vehicle in front\",\"Driving too fast for road condition\",\"Emerging from side road negligently\",\"Exceeding speed limit\",\"Failing to ensure the safety of passenger\",\"Failing to stop at a zebra crossing\",\"Failure to signal movement correctly\",\"Furious/dangerous driving\",\"Improper or illegal turn\",\"Lost control of vehicle\",\"Opened door negligently (driver)\",\"Other driver factors\",\"Overtaking in a zebra controlled area\",\"Overtaking on offside/nearside negligently\",\"Reversing negligently\",\"Rolling backwards/forwards-failed to set handbrake\",\"Sleep or fatigue\",\"Starting negligently\",\"Stopping negligently\",\"Sudden illness, or mental defect\",\"To avoid collision or otherwise : swerving/stopping suddenly\",\"Turning right/left negligently\",\"U turning negligently\",\"Vision affected by atmospheric conditions/sunlight\",\"Careless cycling\",\"Careless lane changing\",\"Dazzled by other lights\",\"Disobey directions of a police officer\",\"Disobey double white lines\",\"Disobey give way sign (slow)\",\"Disobey stop sign (halt)\",\"Disobey traffic signal/light\",\"Drink driving\",\"Driving a dangerous vehicle\",\"Driving inattentively\",\"Driving on wrong side of road\",\"Driving too close to kerb\",\"Driving too close to vehicle alongside\",\"Driving too close to vehicle in front\",\"Driving too fast for road condition\",\"Emerging from side road negligently\",\"Exceeding speed limit\",\"Failing to ensure the safety of passenger\",\"Failing to stop at a zebra crossing\",\"Failure to signal movement correctly\",\"Furious/dangerous driving\",\"Improper or illegal turn\",\"Lost control of vehicle\",\"Opened door negligently (driver)\",\"Other driver factors\",\"Overtaking in a zebra controlled area\",\"Overtaking on offside/nearside negligently\",\"Reversing negligently\",\"Rolling backwards/forwards-failed to set handbrake\",\"Sleep or fatigue\",\"Starting negligently\",\"Stopping negligently\",\"Sudden illness, or mental defect\",\"To avoid collision or otherwise : swerving/stopping suddenly\",\"Turning right/left negligently\",\"U turning negligently\",\"Vision affected by atmospheric conditions/sunlight\",\"\",\"\",\"\",\"\",\"\",\"\",\"\",\"\",\"\",\"\",\"\",\"\",\"\",\"\",\"\",\"\",\"\",\"\",\"\",\"\",\"\",\"\",\"\",\"\",\"\",\"\",\"\",\"\",\"\",\"\",\"\",\"\",\"\",\"\",\"\",\"\",\"\",\"\"],\"values\":[4,1,0,0,0,0,0,1,0,3,31,0,0,0,3,1,0,2,0,1,0,9,1,11,0,6,0,2,3,1,0,4,0,1,0,9,0,0,101,97,0,0,4,22,7,29,13,3,353,1,1,0,138,3,22,2,22,7,0,6,1,447,3,34,0,32,28,8,6,27,0,1,53,114,19,0,600,1635,2,2,18,305,88,185,30,14,3727,20,40,82,2613,8,230,5,266,10,1,23,27,2183,73,406,3,192,391,30,4,280,13,8,305,615,117,1,705,1733,2,2,22,327,95,215,43,20,4111,21,41,82,2754,12,252,9,288,18,1,38,29,2641,76,446,3,226,422,39,10,311,13,10,358,738,136,1],\"type\":\"treemap\",\"textinfo\":\"label+value+percent parent+percent root\"}],                        {\"template\":{\"data\":{\"bar\":[{\"error_x\":{\"color\":\"#2a3f5f\"},\"error_y\":{\"color\":\"#2a3f5f\"},\"marker\":{\"line\":{\"color\":\"#E5ECF6\",\"width\":0.5},\"pattern\":{\"fillmode\":\"overlay\",\"size\":10,\"solidity\":0.2}},\"type\":\"bar\"}],\"barpolar\":[{\"marker\":{\"line\":{\"color\":\"#E5ECF6\",\"width\":0.5},\"pattern\":{\"fillmode\":\"overlay\",\"size\":10,\"solidity\":0.2}},\"type\":\"barpolar\"}],\"carpet\":[{\"aaxis\":{\"endlinecolor\":\"#2a3f5f\",\"gridcolor\":\"white\",\"linecolor\":\"white\",\"minorgridcolor\":\"white\",\"startlinecolor\":\"#2a3f5f\"},\"baxis\":{\"endlinecolor\":\"#2a3f5f\",\"gridcolor\":\"white\",\"linecolor\":\"white\",\"minorgridcolor\":\"white\",\"startlinecolor\":\"#2a3f5f\"},\"type\":\"carpet\"}],\"choropleth\":[{\"colorbar\":{\"outlinewidth\":0,\"ticks\":\"\"},\"type\":\"choropleth\"}],\"contour\":[{\"colorbar\":{\"outlinewidth\":0,\"ticks\":\"\"},\"colorscale\":[[0.0,\"#0d0887\"],[0.1111111111111111,\"#46039f\"],[0.2222222222222222,\"#7201a8\"],[0.3333333333333333,\"#9c179e\"],[0.4444444444444444,\"#bd3786\"],[0.5555555555555556,\"#d8576b\"],[0.6666666666666666,\"#ed7953\"],[0.7777777777777778,\"#fb9f3a\"],[0.8888888888888888,\"#fdca26\"],[1.0,\"#f0f921\"]],\"type\":\"contour\"}],\"contourcarpet\":[{\"colorbar\":{\"outlinewidth\":0,\"ticks\":\"\"},\"type\":\"contourcarpet\"}],\"heatmap\":[{\"colorbar\":{\"outlinewidth\":0,\"ticks\":\"\"},\"colorscale\":[[0.0,\"#0d0887\"],[0.1111111111111111,\"#46039f\"],[0.2222222222222222,\"#7201a8\"],[0.3333333333333333,\"#9c179e\"],[0.4444444444444444,\"#bd3786\"],[0.5555555555555556,\"#d8576b\"],[0.6666666666666666,\"#ed7953\"],[0.7777777777777778,\"#fb9f3a\"],[0.8888888888888888,\"#fdca26\"],[1.0,\"#f0f921\"]],\"type\":\"heatmap\"}],\"heatmapgl\":[{\"colorbar\":{\"outlinewidth\":0,\"ticks\":\"\"},\"colorscale\":[[0.0,\"#0d0887\"],[0.1111111111111111,\"#46039f\"],[0.2222222222222222,\"#7201a8\"],[0.3333333333333333,\"#9c179e\"],[0.4444444444444444,\"#bd3786\"],[0.5555555555555556,\"#d8576b\"],[0.6666666666666666,\"#ed7953\"],[0.7777777777777778,\"#fb9f3a\"],[0.8888888888888888,\"#fdca26\"],[1.0,\"#f0f921\"]],\"type\":\"heatmapgl\"}],\"histogram\":[{\"marker\":{\"pattern\":{\"fillmode\":\"overlay\",\"size\":10,\"solidity\":0.2}},\"type\":\"histogram\"}],\"histogram2d\":[{\"colorbar\":{\"outlinewidth\":0,\"ticks\":\"\"},\"colorscale\":[[0.0,\"#0d0887\"],[0.1111111111111111,\"#46039f\"],[0.2222222222222222,\"#7201a8\"],[0.3333333333333333,\"#9c179e\"],[0.4444444444444444,\"#bd3786\"],[0.5555555555555556,\"#d8576b\"],[0.6666666666666666,\"#ed7953\"],[0.7777777777777778,\"#fb9f3a\"],[0.8888888888888888,\"#fdca26\"],[1.0,\"#f0f921\"]],\"type\":\"histogram2d\"}],\"histogram2dcontour\":[{\"colorbar\":{\"outlinewidth\":0,\"ticks\":\"\"},\"colorscale\":[[0.0,\"#0d0887\"],[0.1111111111111111,\"#46039f\"],[0.2222222222222222,\"#7201a8\"],[0.3333333333333333,\"#9c179e\"],[0.4444444444444444,\"#bd3786\"],[0.5555555555555556,\"#d8576b\"],[0.6666666666666666,\"#ed7953\"],[0.7777777777777778,\"#fb9f3a\"],[0.8888888888888888,\"#fdca26\"],[1.0,\"#f0f921\"]],\"type\":\"histogram2dcontour\"}],\"mesh3d\":[{\"colorbar\":{\"outlinewidth\":0,\"ticks\":\"\"},\"type\":\"mesh3d\"}],\"parcoords\":[{\"line\":{\"colorbar\":{\"outlinewidth\":0,\"ticks\":\"\"}},\"type\":\"parcoords\"}],\"pie\":[{\"automargin\":true,\"type\":\"pie\"}],\"scatter\":[{\"marker\":{\"colorbar\":{\"outlinewidth\":0,\"ticks\":\"\"}},\"type\":\"scatter\"}],\"scatter3d\":[{\"line\":{\"colorbar\":{\"outlinewidth\":0,\"ticks\":\"\"}},\"marker\":{\"colorbar\":{\"outlinewidth\":0,\"ticks\":\"\"}},\"type\":\"scatter3d\"}],\"scattercarpet\":[{\"marker\":{\"colorbar\":{\"outlinewidth\":0,\"ticks\":\"\"}},\"type\":\"scattercarpet\"}],\"scattergeo\":[{\"marker\":{\"colorbar\":{\"outlinewidth\":0,\"ticks\":\"\"}},\"type\":\"scattergeo\"}],\"scattergl\":[{\"marker\":{\"colorbar\":{\"outlinewidth\":0,\"ticks\":\"\"}},\"type\":\"scattergl\"}],\"scattermapbox\":[{\"marker\":{\"colorbar\":{\"outlinewidth\":0,\"ticks\":\"\"}},\"type\":\"scattermapbox\"}],\"scatterpolar\":[{\"marker\":{\"colorbar\":{\"outlinewidth\":0,\"ticks\":\"\"}},\"type\":\"scatterpolar\"}],\"scatterpolargl\":[{\"marker\":{\"colorbar\":{\"outlinewidth\":0,\"ticks\":\"\"}},\"type\":\"scatterpolargl\"}],\"scatterternary\":[{\"marker\":{\"colorbar\":{\"outlinewidth\":0,\"ticks\":\"\"}},\"type\":\"scatterternary\"}],\"surface\":[{\"colorbar\":{\"outlinewidth\":0,\"ticks\":\"\"},\"colorscale\":[[0.0,\"#0d0887\"],[0.1111111111111111,\"#46039f\"],[0.2222222222222222,\"#7201a8\"],[0.3333333333333333,\"#9c179e\"],[0.4444444444444444,\"#bd3786\"],[0.5555555555555556,\"#d8576b\"],[0.6666666666666666,\"#ed7953\"],[0.7777777777777778,\"#fb9f3a\"],[0.8888888888888888,\"#fdca26\"],[1.0,\"#f0f921\"]],\"type\":\"surface\"}],\"table\":[{\"cells\":{\"fill\":{\"color\":\"#EBF0F8\"},\"line\":{\"color\":\"white\"}},\"header\":{\"fill\":{\"color\":\"#C8D4E3\"},\"line\":{\"color\":\"white\"}},\"type\":\"table\"}]},\"layout\":{\"annotationdefaults\":{\"arrowcolor\":\"#2a3f5f\",\"arrowhead\":0,\"arrowwidth\":1},\"autotypenumbers\":\"strict\",\"coloraxis\":{\"colorbar\":{\"outlinewidth\":0,\"ticks\":\"\"}},\"colorscale\":{\"diverging\":[[0,\"#8e0152\"],[0.1,\"#c51b7d\"],[0.2,\"#de77ae\"],[0.3,\"#f1b6da\"],[0.4,\"#fde0ef\"],[0.5,\"#f7f7f7\"],[0.6,\"#e6f5d0\"],[0.7,\"#b8e186\"],[0.8,\"#7fbc41\"],[0.9,\"#4d9221\"],[1,\"#276419\"]],\"sequential\":[[0.0,\"#0d0887\"],[0.1111111111111111,\"#46039f\"],[0.2222222222222222,\"#7201a8\"],[0.3333333333333333,\"#9c179e\"],[0.4444444444444444,\"#bd3786\"],[0.5555555555555556,\"#d8576b\"],[0.6666666666666666,\"#ed7953\"],[0.7777777777777778,\"#fb9f3a\"],[0.8888888888888888,\"#fdca26\"],[1.0,\"#f0f921\"]],\"sequentialminus\":[[0.0,\"#0d0887\"],[0.1111111111111111,\"#46039f\"],[0.2222222222222222,\"#7201a8\"],[0.3333333333333333,\"#9c179e\"],[0.4444444444444444,\"#bd3786\"],[0.5555555555555556,\"#d8576b\"],[0.6666666666666666,\"#ed7953\"],[0.7777777777777778,\"#fb9f3a\"],[0.8888888888888888,\"#fdca26\"],[1.0,\"#f0f921\"]]},\"colorway\":[\"#636efa\",\"#EF553B\",\"#00cc96\",\"#ab63fa\",\"#FFA15A\",\"#19d3f3\",\"#FF6692\",\"#B6E880\",\"#FF97FF\",\"#FECB52\"],\"font\":{\"color\":\"#2a3f5f\"},\"geo\":{\"bgcolor\":\"white\",\"lakecolor\":\"white\",\"landcolor\":\"#E5ECF6\",\"showlakes\":true,\"showland\":true,\"subunitcolor\":\"white\"},\"hoverlabel\":{\"align\":\"left\"},\"hovermode\":\"closest\",\"mapbox\":{\"style\":\"light\"},\"paper_bgcolor\":\"white\",\"plot_bgcolor\":\"#E5ECF6\",\"polar\":{\"angularaxis\":{\"gridcolor\":\"white\",\"linecolor\":\"white\",\"ticks\":\"\"},\"bgcolor\":\"#E5ECF6\",\"radialaxis\":{\"gridcolor\":\"white\",\"linecolor\":\"white\",\"ticks\":\"\"}},\"scene\":{\"xaxis\":{\"backgroundcolor\":\"#E5ECF6\",\"gridcolor\":\"white\",\"gridwidth\":2,\"linecolor\":\"white\",\"showbackground\":true,\"ticks\":\"\",\"zerolinecolor\":\"white\"},\"yaxis\":{\"backgroundcolor\":\"#E5ECF6\",\"gridcolor\":\"white\",\"gridwidth\":2,\"linecolor\":\"white\",\"showbackground\":true,\"ticks\":\"\",\"zerolinecolor\":\"white\"},\"zaxis\":{\"backgroundcolor\":\"#E5ECF6\",\"gridcolor\":\"white\",\"gridwidth\":2,\"linecolor\":\"white\",\"showbackground\":true,\"ticks\":\"\",\"zerolinecolor\":\"white\"}},\"shapedefaults\":{\"line\":{\"color\":\"#2a3f5f\"}},\"ternary\":{\"aaxis\":{\"gridcolor\":\"white\",\"linecolor\":\"white\",\"ticks\":\"\"},\"baxis\":{\"gridcolor\":\"white\",\"linecolor\":\"white\",\"ticks\":\"\"},\"bgcolor\":\"#E5ECF6\",\"caxis\":{\"gridcolor\":\"white\",\"linecolor\":\"white\",\"ticks\":\"\"}},\"title\":{\"x\":0.05},\"xaxis\":{\"automargin\":true,\"gridcolor\":\"white\",\"linecolor\":\"white\",\"ticks\":\"\",\"title\":{\"standoff\":15},\"zerolinecolor\":\"white\",\"zerolinewidth\":2},\"yaxis\":{\"automargin\":true,\"gridcolor\":\"white\",\"linecolor\":\"white\",\"ticks\":\"\",\"title\":{\"standoff\":15},\"zerolinecolor\":\"white\",\"zerolinewidth\":2}}},\"legend\":{\"tracegroupgap\":0},\"margin\":{\"t\":60},\"height\":600,\"width\":1000},                        {\"responsive\": true}                    ).then(function(){\n",
              "                            \n",
              "var gd = document.getElementById('5fc70a26-74c7-4efa-a91b-22b5d932540e');\n",
              "var x = new MutationObserver(function (mutations, observer) {{\n",
              "        var display = window.getComputedStyle(gd).display;\n",
              "        if (!display || display === 'none') {{\n",
              "            console.log([gd, 'removed!']);\n",
              "            Plotly.purge(gd);\n",
              "            observer.disconnect();\n",
              "        }}\n",
              "}});\n",
              "\n",
              "// Listen for the removal of the full notebook cells\n",
              "var notebookContainer = gd.closest('#notebook-container');\n",
              "if (notebookContainer) {{\n",
              "    x.observe(notebookContainer, {childList: true});\n",
              "}}\n",
              "\n",
              "// Listen for the clearing of the current output cell\n",
              "var outputEl = gd.closest('.output');\n",
              "if (outputEl) {{\n",
              "    x.observe(outputEl, {childList: true});\n",
              "}}\n",
              "\n",
              "                        })                };                            </script>        </div>\n",
              "</body>\n",
              "</html>"
            ]
          },
          "metadata": {}
        }
      ]
    },
    {
      "cell_type": "code",
      "source": [
        "username = 'hlamai'\n",
        "api_key = 'UL7cAhmzkOL4Ihy9pNbY' #  go to profile > settings > regenerate key\n",
        "chart_studio.tools.set_credentials_file(username=username, api_key=api_key)"
      ],
      "metadata": {
        "id": "oAhTOWA4Gz8H"
      },
      "execution_count": 68,
      "outputs": []
    },
    {
      "cell_type": "code",
      "source": [
        "py.plot(fig, filename = 'gdp_per_cap', auto_open=True)"
      ],
      "metadata": {
        "colab": {
          "base_uri": "https://localhost:8080/",
          "height": 35
        },
        "id": "TiaVpR7PJRJI",
        "outputId": "f0f1dc84-4189-4572-b0ac-4bf0dc024211"
      },
      "execution_count": 69,
      "outputs": [
        {
          "output_type": "execute_result",
          "data": {
            "text/plain": [
              "'https://plotly.com/~hlamai/1/'"
            ],
            "application/vnd.google.colaboratory.intrinsic+json": {
              "type": "string"
            }
          },
          "metadata": {},
          "execution_count": 69
        }
      ]
    }
  ]
}